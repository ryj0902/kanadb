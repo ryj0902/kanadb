{
 "cells": [
  {
   "cell_type": "code",
   "execution_count": 1,
   "metadata": {},
   "outputs": [],
   "source": [
    "import cv2\n",
    "import numpy as np\n",
    "import pandas as pd\n",
    "%matplotlib widget\n",
    "from matplotlib import pyplot as plt"
   ]
  },
  {
   "cell_type": "code",
   "execution_count": 2,
   "metadata": {},
   "outputs": [],
   "source": [
    "script_data = pd.read_json('D:/workspace/Kanatales/data/TextAsset/SCRIPT.txt', encoding='utf8')\n",
    "string_data = pd.read_json('D:/workspace/Kanatales/data/TextAsset/STRING.txt', encoding='utf8')\n",
    "character_data = pd.read_json('D:/workspace/Kanatales/data/TextAsset/CHARACTER.txt', encoding='utf8')"
   ]
  },
  {
   "cell_type": "code",
   "execution_count": 3,
   "metadata": {},
   "outputs": [],
   "source": [
    "scripts_per_floor = [[] for _ in range(10)]\n",
    "\n",
    "index = 0\n",
    "for script in script_data.to_dict(orient='records'):\n",
    "    if script['SCRIPT_ID'] // 100000 < 103: # 시즌 1 에피 3 죽림향\n",
    "        continue\n",
    "    elif script['SCRIPT_ID'] // 100000 > 103:\n",
    "        break\n",
    "\n",
    "    index = (script['SCRIPT_ID'] % 100000 // 1000) - 1\n",
    "    scripts_per_floor[index].append(script)"
   ]
  },
  {
   "cell_type": "code",
   "execution_count": 4,
   "metadata": {},
   "outputs": [
    {
     "name": "stdout",
     "output_type": "stream",
     "text": [
      "36\n",
      "40\n",
      "37\n",
      "31\n",
      "45\n",
      "64\n",
      "50\n",
      "43\n",
      "41\n",
      "33\n"
     ]
    }
   ],
   "source": [
    "for scripts in scripts_per_floor:\n",
    "    print(len(scripts))"
   ]
  },
  {
   "cell_type": "code",
   "execution_count": 5,
   "metadata": {},
   "outputs": [],
   "source": [
    "IMAGE_DIR = 'D:/workspace/Kanatales/data/Texture2D'"
   ]
  },
  {
   "cell_type": "code",
   "execution_count": 6,
   "metadata": {},
   "outputs": [],
   "source": [
    "def read_image(path):\n",
    "    if '-1' in path or \"IMG_.png\" in path:\n",
    "        return None\n",
    "    \n",
    "    image = cv2.imread(path, cv2.IMREAD_UNCHANGED)\n",
    "    image = cv2.cvtColor(image, cv2.COLOR_BGRA2RGBA)\n",
    "    return image\n",
    "\n",
    "face_left_top = {\n",
    "    '1': [430, 267], # 시타 \n",
    "    '2': [416, 176], # 시니아\n",
    "    '3': [432, 138], # 루티카\n",
    "    '4': [421, 194], # 아이리\n",
    "}\n",
    "\n",
    "def merge_face_to_body(bimg, fimg, index):\n",
    "    if bimg is None:\n",
    "        return None\n",
    "\n",
    "    if fimg is None:\n",
    "        return bimg\n",
    "    \n",
    "    bimg, fimg = bimg.copy(), fimg.copy()\n",
    "\n",
    "    h, w, _ = fimg.shape\n",
    "\n",
    "    left, top = face_left_top[index]\n",
    "    roi = bimg[top:top+h, left:left+w]\n",
    "\n",
    "    fimg_alpha = fimg[:, :, 3]\n",
    "    mask = cv2.merge([fimg_alpha, fimg_alpha, fimg_alpha, fimg_alpha])\n",
    "    mask = cv2.normalize(mask, None, alpha=0, beta=1, norm_type=cv2.NORM_MINMAX, dtype=cv2.CV_32F)\n",
    "    inverse_mask = 1 - mask\n",
    "\n",
    "    bimg_bg = cv2.multiply(roi, inverse_mask, dtype=cv2.CV_32F)\n",
    "    fimg = cv2.multiply(fimg, mask, dtype=cv2.CV_32F)\n",
    "    result = cv2.add(bimg_bg, fimg)\n",
    "\n",
    "    bimg[top:top+h, left:left+w] = result\n",
    "\n",
    "    return bimg\n",
    "\n",
    "def mask_dark(body_img, hex_color):\n",
    "    if not hex_color:\n",
    "        return body_img\n",
    "    \n",
    "    rgb_color = [255 - int(hex_color[i:i+2], 16) for i in (0, 2, 4)] + [0]\n",
    "    image = np.zeros_like(body_img)\n",
    "    image[:] = rgb_color\n",
    "    body_img = cv2.subtract(body_img, image)\n",
    "\n",
    "    return body_img\n",
    "\n",
    "def get_character_image(id, dark_hex):\n",
    "    if id == -1:\n",
    "        body_img = None\n",
    "        face_img = None\n",
    "        index = '1'\n",
    "    else:\n",
    "        character = character_data.loc[character_data['CHARACTER_ID'] == id]\n",
    "        body_img = character['BODY_IMG'].item()\n",
    "        if id // 1000000 == 2:\n",
    "            body_img = f'{IMAGE_DIR}/DRESS_IMG_{body_img}.png'\n",
    "        else:\n",
    "            body_img = f'{IMAGE_DIR}/{body_img}.png'\n",
    "\n",
    "        body_img = read_image(body_img)\n",
    "\n",
    "        face_img = character['FACE_IMG'].item()\n",
    "        face_img = f'{IMAGE_DIR}/{face_img}.png'\n",
    "        face_img = read_image(face_img)\n",
    "\n",
    "        index = character['BODY_IMG'].item()[2]\n",
    "\n",
    "    character_img = merge_face_to_body(body_img, face_img, index)\n",
    "    character_img = mask_dark(character_img, dark_hex)\n",
    "\n",
    "    return character_img\n",
    "\n",
    "def get_final_image(image1, image2, image3):\n",
    "    fimage = np.zeros([1024, 3072, 4], dtype=np.uint8)\n",
    "    if image1 is not None:\n",
    "        fimage[:, :1024, :] = image1\n",
    "    if image2 is not None:\n",
    "        fimage[:, 1024:2048:, :] = image2\n",
    "    if image3 is not None:\n",
    "        fimage[:, 2048:, :] = image3\n",
    "\n",
    "    return fimage"
   ]
  },
  {
   "cell_type": "code",
   "execution_count": 7,
   "metadata": {},
   "outputs": [
    {
     "name": "stdout",
     "output_type": "stream",
     "text": [
      "시타\n",
      "시니아. 이제 가는 거야?\n"
     ]
    }
   ],
   "source": [
    "script = scripts_per_floor[0][0]\n",
    "script_name = string_data.loc[string_data['STRING_NAME'] == script['SCRIPT_NAME']]['STRING_KR'].item()\n",
    "script_text = string_data.loc[string_data['STRING_NAME'] == script['SCRIPT_TEXT']]['STRING_KR'].item()\n",
    "print(script_name)\n",
    "print(script_text)"
   ]
  },
  {
   "cell_type": "code",
   "execution_count": 8,
   "metadata": {},
   "outputs": [
    {
     "ename": "error",
     "evalue": "OpenCV(4.8.1) D:\\a\\opencv-python\\opencv-python\\opencv\\modules\\imgproc\\src\\color.cpp:182: error: (-215:Assertion failed) !_src.empty() in function 'cv::cvtColor'\n",
     "output_type": "error",
     "traceback": [
      "\u001b[1;31m---------------------------------------------------------------------------\u001b[0m",
      "\u001b[1;31merror\u001b[0m                                     Traceback (most recent call last)",
      "\u001b[1;32md:\\workspace\\Kanatales\\kanadb\\test_script.ipynb Cell 8\u001b[0m line \u001b[0;36m2\n\u001b[0;32m      <a href='vscode-notebook-cell:/d%3A/workspace/Kanatales/kanadb/test_script.ipynb#X23sZmlsZQ%3D%3D?line=0'>1</a>\u001b[0m character1_id \u001b[39m=\u001b[39m \u001b[39mint\u001b[39m(script[\u001b[39m'\u001b[39m\u001b[39mSCRIPT_CHARACTER1_IMG\u001b[39m\u001b[39m'\u001b[39m])\n\u001b[1;32m----> <a href='vscode-notebook-cell:/d%3A/workspace/Kanatales/kanadb/test_script.ipynb#X23sZmlsZQ%3D%3D?line=1'>2</a>\u001b[0m character1_img \u001b[39m=\u001b[39m get_character_image(character1_id, \u001b[39mNone\u001b[39;49;00m)\n\u001b[0;32m      <a href='vscode-notebook-cell:/d%3A/workspace/Kanatales/kanadb/test_script.ipynb#X23sZmlsZQ%3D%3D?line=3'>4</a>\u001b[0m plt\u001b[39m.\u001b[39mfigure()\n\u001b[0;32m      <a href='vscode-notebook-cell:/d%3A/workspace/Kanatales/kanadb/test_script.ipynb#X23sZmlsZQ%3D%3D?line=4'>5</a>\u001b[0m plt\u001b[39m.\u001b[39mimshow(character1_img)\n",
      "\u001b[1;32md:\\workspace\\Kanatales\\kanadb\\test_script.ipynb Cell 8\u001b[0m line \u001b[0;36m6\n\u001b[0;32m     <a href='vscode-notebook-cell:/d%3A/workspace/Kanatales/kanadb/test_script.ipynb#X23sZmlsZQ%3D%3D?line=63'>64</a>\u001b[0m \u001b[39melse\u001b[39;00m:\n\u001b[0;32m     <a href='vscode-notebook-cell:/d%3A/workspace/Kanatales/kanadb/test_script.ipynb#X23sZmlsZQ%3D%3D?line=64'>65</a>\u001b[0m     body_img \u001b[39m=\u001b[39m \u001b[39mf\u001b[39m\u001b[39m'\u001b[39m\u001b[39m{\u001b[39;00mIMAGE_DIR\u001b[39m}\u001b[39;00m\u001b[39m/\u001b[39m\u001b[39m{\u001b[39;00mbody_img\u001b[39m}\u001b[39;00m\u001b[39m.png\u001b[39m\u001b[39m'\u001b[39m\n\u001b[1;32m---> <a href='vscode-notebook-cell:/d%3A/workspace/Kanatales/kanadb/test_script.ipynb#X23sZmlsZQ%3D%3D?line=66'>67</a>\u001b[0m body_img \u001b[39m=\u001b[39m read_image(body_img)\n\u001b[0;32m     <a href='vscode-notebook-cell:/d%3A/workspace/Kanatales/kanadb/test_script.ipynb#X23sZmlsZQ%3D%3D?line=68'>69</a>\u001b[0m face_img \u001b[39m=\u001b[39m character[\u001b[39m'\u001b[39m\u001b[39mFACE_IMG\u001b[39m\u001b[39m'\u001b[39m]\u001b[39m.\u001b[39mitem()\n\u001b[0;32m     <a href='vscode-notebook-cell:/d%3A/workspace/Kanatales/kanadb/test_script.ipynb#X23sZmlsZQ%3D%3D?line=69'>70</a>\u001b[0m face_img \u001b[39m=\u001b[39m \u001b[39mf\u001b[39m\u001b[39m'\u001b[39m\u001b[39m{\u001b[39;00mIMAGE_DIR\u001b[39m}\u001b[39;00m\u001b[39m/\u001b[39m\u001b[39m{\u001b[39;00mface_img\u001b[39m}\u001b[39;00m\u001b[39m.png\u001b[39m\u001b[39m'\u001b[39m\n",
      "\u001b[1;32md:\\workspace\\Kanatales\\kanadb\\test_script.ipynb Cell 8\u001b[0m line \u001b[0;36m6\n\u001b[0;32m      <a href='vscode-notebook-cell:/d%3A/workspace/Kanatales/kanadb/test_script.ipynb#X23sZmlsZQ%3D%3D?line=2'>3</a>\u001b[0m     \u001b[39mreturn\u001b[39;00m \u001b[39mNone\u001b[39;00m\n\u001b[0;32m      <a href='vscode-notebook-cell:/d%3A/workspace/Kanatales/kanadb/test_script.ipynb#X23sZmlsZQ%3D%3D?line=4'>5</a>\u001b[0m image \u001b[39m=\u001b[39m cv2\u001b[39m.\u001b[39mimread(path, cv2\u001b[39m.\u001b[39mIMREAD_UNCHANGED)\n\u001b[1;32m----> <a href='vscode-notebook-cell:/d%3A/workspace/Kanatales/kanadb/test_script.ipynb#X23sZmlsZQ%3D%3D?line=5'>6</a>\u001b[0m image \u001b[39m=\u001b[39m cv2\u001b[39m.\u001b[39;49mcvtColor(image, cv2\u001b[39m.\u001b[39;49mCOLOR_BGRA2RGBA)\n\u001b[0;32m      <a href='vscode-notebook-cell:/d%3A/workspace/Kanatales/kanadb/test_script.ipynb#X23sZmlsZQ%3D%3D?line=6'>7</a>\u001b[0m \u001b[39mreturn\u001b[39;00m image\n",
      "\u001b[1;31merror\u001b[0m: OpenCV(4.8.1) D:\\a\\opencv-python\\opencv-python\\opencv\\modules\\imgproc\\src\\color.cpp:182: error: (-215:Assertion failed) !_src.empty() in function 'cv::cvtColor'\n"
     ]
    }
   ],
   "source": [
    "character1_id = int(script['SCRIPT_CHARACTER1_IMG'])\n",
    "character1_img = get_character_image(character1_id, None)\n",
    "\n",
    "plt.figure()\n",
    "plt.imshow(character1_img)"
   ]
  },
  {
   "cell_type": "code",
   "execution_count": null,
   "metadata": {},
   "outputs": [],
   "source": [
    "character2_id = int(script['SCRIPT_CHARACTER2_IMG'])\n",
    "character2_img = get_character_image(character2_id, None)\n",
    "\n",
    "plt.figure()\n",
    "plt.imshow(character2_img)"
   ]
  },
  {
   "cell_type": "code",
   "execution_count": null,
   "metadata": {},
   "outputs": [],
   "source": [
    "character3_id = int(script['SCRIPT_CHARACTER3_IMG'])\n",
    "character3_img = get_character_image(character3_id, None)\n",
    "\n",
    "plt.figure()\n",
    "plt.imshow(character3_img)"
   ]
  },
  {
   "cell_type": "code",
   "execution_count": null,
   "metadata": {},
   "outputs": [],
   "source": [
    "script = scripts_per_floor[0][0]\n",
    "script_name = string_data.loc[string_data['STRING_NAME'] == script['SCRIPT_NAME']]['STRING_KR'].item()\n",
    "script_text = string_data.loc[string_data['STRING_NAME'] == script['SCRIPT_TEXT']]['STRING_KR'].item()\n",
    "print(script_name)\n",
    "print(script_text)\n",
    "\n",
    "fimage = get_final_image(character1_img, character2_img, character3_img)\n",
    "\n",
    "plt.figure(figsize=(12, 4))\n",
    "plt.imshow(fimage)"
   ]
  },
  {
   "cell_type": "code",
   "execution_count": null,
   "metadata": {},
   "outputs": [],
   "source": [
    "floor = 1\n",
    "index = 0"
   ]
  },
  {
   "cell_type": "code",
   "execution_count": null,
   "metadata": {},
   "outputs": [],
   "source": [
    "if index >= len(scripts_per_floor[floor]):\n",
    "    assert 1 == 0, 'Finished'\n",
    "\n",
    "script = scripts_per_floor[floor][index]\n",
    "script_name = string_data.loc[string_data['STRING_NAME'] == script['SCRIPT_NAME']]['STRING_KR'].tolist()[0]\n",
    "script_text = string_data.loc[string_data['STRING_NAME'] == script['SCRIPT_TEXT']]['STRING_KR'].item()\n",
    "print(script_name)\n",
    "print(script_text)\n",
    "\n",
    "cimages = []\n",
    "for i in ['1', '2', '3']:\n",
    "    cid = script[f'SCRIPT_CHARACTER{i}_IMG']\n",
    "    cid = int(cid) if len(cid) != 0 else -1\n",
    "    dark = script[f'SCRIPT_CHARACTER{i}_DARK']\n",
    "    cimage = get_character_image(cid, dark)\n",
    "    cimages.append(cimage)\n",
    "\n",
    "fimage = get_final_image(*cimages)\n",
    "\n",
    "fig = plt.figure(figsize=(12, 4))\n",
    "fig.canvas.toolbar_visible = False\n",
    "fig.canvas.header_visible = False\n",
    "fig.canvas.footer_visible = False\n",
    "ax = fig.add_subplot()\n",
    "ax.imshow(fimage)\n",
    "\n",
    "index += 1"
   ]
  },
  {
   "cell_type": "code",
   "execution_count": null,
   "metadata": {},
   "outputs": [],
   "source": [
    "index"
   ]
  },
  {
   "cell_type": "code",
   "execution_count": null,
   "metadata": {},
   "outputs": [],
   "source": []
  }
 ],
 "metadata": {
  "kernelspec": {
   "display_name": "venv",
   "language": "python",
   "name": "python3"
  },
  "language_info": {
   "codemirror_mode": {
    "name": "ipython",
    "version": 3
   },
   "file_extension": ".py",
   "mimetype": "text/x-python",
   "name": "python",
   "nbconvert_exporter": "python",
   "pygments_lexer": "ipython3",
   "version": "3.10.11"
  }
 },
 "nbformat": 4,
 "nbformat_minor": 2
}
